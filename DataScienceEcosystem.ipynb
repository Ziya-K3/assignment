{
 "cells": [
  {
   "cell_type": "markdown",
   "id": "cd3a83a2",
   "metadata": {},
   "source": [
    "# Data Science Tools and Ecosystem"
   ]
  },
  {
   "cell_type": "markdown",
   "id": "6e3b6359",
   "metadata": {},
   "source": [
    "In this notebook Data Science Tools and Ecosystem are summarized"
   ]
  },
  {
   "cell_type": "markdown",
   "id": "45b4c53e",
   "metadata": {},
   "source": [
    "Some of the popular languages that Data Scientists use are\n",
    "1. Python\n",
    "2. Julia\n",
    "3. Scala\n",
    "4. R\n",
    "5. Java"
   ]
  },
  {
   "cell_type": "markdown",
   "id": "b69a0e83",
   "metadata": {},
   "source": [
    "Some of the commonly used libraries used by Data Scientists include:\n",
    "\n",
    "1. NumPy: A fundamental package for scientific computing with Python. It provides support for large, multi-dimensional arrays and matrices, along with mathematical functions to operate on these.\n",
    "\n",
    "2. Pandas: A powerful data manipulation and analysis library. It provides data structures like DataFrames for efficient data wrangling and analysis. Pandas is particularly useful for working with structured data.\n",
    "\n",
    "3. scikit-learn:A simple and efficient tool for data analysis and modeling, especially for machine learning tasks. Scikit-learn includes a variety of machine learning algorithms and utilities for tasks such as classification, regression, clustering, and dimensionality reduction.\n",
    "\n",
    "4. Matplotlib: A 2D plotting library for creating static, animated, and interactive visualizations in Python. It is commonly used for data visualization and exploration.\n",
    "\n",
    "5. TensorFlow and PyTorch: These are deep learning libraries widely used for building and training neural networks. They provide a flexible platform for implementing and experimenting with various machine learning models.\n",
    "\n"
   ]
  },
  {
   "cell_type": "markdown",
   "id": "51ced0ce",
   "metadata": {},
   "source": [
    "| Data Science Tools   |\n",
    "|----------------------|\n",
    "| Jupyter Notebooks    |\n",
    "| RStudio              |\n",
    "| VS Code with Python  |\n"
   ]
  },
  {
   "cell_type": "markdown",
   "id": "54a76a6f",
   "metadata": {},
   "source": [
    "### Below are a few examples of evaluating arithmetic expressions in Python"
   ]
  },
  {
   "cell_type": "code",
   "execution_count": 1,
   "id": "059347b4",
   "metadata": {},
   "outputs": [
    {
     "name": "stdout",
     "output_type": "stream",
     "text": [
      "17\n"
     ]
    }
   ],
   "source": [
    "# This is a simple arithmetic expression to multiply then add integers.\n",
    "result = (3 * 4) + 5\n",
    "print(result)\n"
   ]
  },
  {
   "cell_type": "code",
   "execution_count": 2,
   "id": "55099edb",
   "metadata": {},
   "outputs": [
    {
     "name": "stdout",
     "output_type": "stream",
     "text": [
      "3.3333333333333335\n"
     ]
    }
   ],
   "source": [
    "# This will convert 200 minutes to hours by dividing by 60.\n",
    "minutes = 200\n",
    "hours = minutes / 60\n",
    "print(hours)\n"
   ]
  },
  {
   "cell_type": "markdown",
   "id": "2878a083",
   "metadata": {},
   "source": [
    "__Objectives:__\n",
    "\n",
    "- Understand the importance of programming languages in data science.\n",
    "- Explore commonly used libraries in data science, such as NumPy, Pandas, and scikit-learn.\n",
    "- Learn about different data science tools and development environments, including Jupyter Notebooks, RStudio, and VS Code.\n",
    "- Gain familiarity with evaluating arithmetic expressions in Python.\n",
    "- Perform a simple conversion task, such as converting minutes to hours.\n",
    "\n"
   ]
  },
  {
   "cell_type": "markdown",
   "id": "c31e5f10",
   "metadata": {},
   "source": [
    "## Author\n",
    "Kezya Steffyn"
   ]
  }
 ],
 "metadata": {
  "kernelspec": {
   "display_name": "Python 3 (ipykernel)",
   "language": "python",
   "name": "python3"
  },
  "language_info": {
   "codemirror_mode": {
    "name": "ipython",
    "version": 3
   },
   "file_extension": ".py",
   "mimetype": "text/x-python",
   "name": "python",
   "nbconvert_exporter": "python",
   "pygments_lexer": "ipython3",
   "version": "3.10.9"
  }
 },
 "nbformat": 4,
 "nbformat_minor": 5
}
